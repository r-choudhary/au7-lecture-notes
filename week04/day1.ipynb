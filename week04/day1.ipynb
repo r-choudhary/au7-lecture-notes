{
 "cells": [
  {
   "cell_type": "markdown",
   "metadata": {},
   "source": [
    "\n",
    "# Week 04 > Day 1\n",
    "\n",
    "> Priyesh, Feb 10, 2020 \n",
    "\n",
    "\n",
    "## 👨🏻‍💻 Today:\n",
    "\n",
    "- Selection sort ✓\n",
    "- Counting sort ✓\n",
    "- Bubble sort ✓\n",
    "- Insertion sort"
   ]
  },
  {
   "cell_type": "markdown",
   "metadata": {},
   "source": [
    "#  🗣 Selection sort \n",
    "![alt text](https://he-s3.s3.amazonaws.com/media/uploads/2888f5b.png \"Selection sort\")\n",
    "\n",
    "## Space complexity:\n",
    "- *note -- list, tuples affect space complexity*\n",
    "- new variables declared - i, j, n, min_index, minimum (5nos)\n",
    "- does it depends on input size? no, you can take whatever input, variable will remain the same\n",
    "- we know O(1) is used when variables remain constant (linear/polynomial equation)\n",
    "\n",
    "## Time complexity:\n",
    "- *note -- loops affect time complexity*\n",
    "- ⭐️ review 5 types of mathematical functions\n",
    "- loops effect time, list of size in example = 6\n",
    "- outer i loop is running 5 + 4 + 3 + 2 + 1 = 15 times during code execution below\n",
    "- Σ summation gives n*(n-1)/2 = 6 * (6 - 1)/2 = 15\n",
    "- (n^2)/2 = n/2 = O(n^2)"
   ]
  },
  {
   "cell_type": "code",
   "execution_count": 14,
   "metadata": {},
   "outputs": [
    {
     "name": "stdout",
     "output_type": "stream",
     "text": [
      "index  0\n",
      "min_index  1\n",
      "min_value  5\n",
      "index  0\n",
      "min_index  2\n",
      "min_value  4\n",
      "index  0\n",
      "min_index  3\n",
      "min_value  2\n",
      "index  1\n",
      "min_index  2\n",
      "min_value  4\n"
     ]
    }
   ],
   "source": [
    "# basic code for selection sort\n",
    "\n",
    "list_1 = [7, 5, 4, 2]\n",
    "length = len(list_1)\n",
    "for i in range(length):\n",
    "    min_index = i\n",
    "    minimum = list_1[i]\n",
    "    for j in range(i + 1, length):\n",
    "        if list_1[j] < minimum:\n",
    "            min_index = j\n",
    "            minimum = list_1[j]\n",
    "            \n",
    "            # test\n",
    "            print(\"index \", i)\n",
    "            print(\"min_index \", min_index)\n",
    "            print(\"min_value \", minimum)\n",
    "            \n",
    "    list_1[i], list_1[min_index] = list_1[min_index], list_1[i]\n"
   ]
  },
  {
   "cell_type": "code",
   "execution_count": 5,
   "metadata": {},
   "outputs": [
    {
     "name": "stdout",
     "output_type": "stream",
     "text": [
      "glass 2\n",
      "glass 1\n"
     ]
    }
   ],
   "source": [
    "# swapping values \n",
    "\n",
    "x = \"glass 1\"\n",
    "y = \"glass 2\"\n",
    "x, y = y, x\n",
    "\n",
    "print(x)\n",
    "print(y)"
   ]
  },
  {
   "cell_type": "markdown",
   "metadata": {},
   "source": [
    "***"
   ]
  },
  {
   "cell_type": "markdown",
   "metadata": {},
   "source": [
    "# 🗣 Couting sort\n",
    "\n",
    "![Counting sort](https://i1.wp.com/algorithms.tutorialhorizon.com/files/2015/02/Counting-Sort.png \"Couting sort\")\n",
    "\n",
    "\n",
    "## Space complexity\n",
    "\n",
    "- variables used -- i, i, j, n, sortedArr, countOccurences\n",
    "- 4 + size(list) + max = (List) + 1\n",
    "- 5 + n + max(List)\n",
    "- generally, max(List) >> n\n",
    "- 10^9 >> 10^7\n",
    "- O(max(List)+n) >> actual answer\n",
    "- O(max(List)) >> answer this in interviews 🤷🏻‍♂️\n",
    "\n",
    "## Time complexity\n",
    "- 0 + 1 + 0 + 2 + 1 + 1 + 0 + 1 + 1 + 1 = n\n",
    "- O(n)\n",
    "\n",
    "## 🙋🏻‍♀️ Queries\n",
    "\n",
    "### Why not always use this?\n",
    "1. space complexity issues -- (10^6 array location for one variable)\n",
    "2. this is **not inplace** -- this needs a separate list, in-place algorithm is an algorithm which transforms input using no auxiliary data structure\n",
    "3. it is **unstable** -- orting algorithm is said to be unstable if there are two or more objects with equal keys which don't appear in same order before and after sorting\n",
    "\n",
    "\n",
    "### How to optimize it?\n",
    "\n",
    "- countOccurences max(L) + 1 => (max(L) - min(L))\n",
    "\n",
    "\n",
    "### How to sort negatives?\n",
    "\n",
    "- code snippet below 👇🏽\n",
    "\n",
    "### Why not use a dictionary?\n",
    "\n",
    "- code will run longer, not effective"
   ]
  },
  {
   "cell_type": "code",
   "execution_count": 8,
   "metadata": {},
   "outputs": [
    {
     "name": "stdout",
     "output_type": "stream",
     "text": [
      "[0, 1, 2, 2, 1, 0, 0, 0, 1]\n",
      "[1]\n",
      "[1, 2]\n",
      "[1, 2, 2]\n",
      "[1, 2, 2, 3]\n",
      "[1, 2, 2, 3, 3]\n",
      "[1, 2, 2, 3, 3, 4]\n",
      "[1, 2, 2, 3, 3, 4, 8]\n"
     ]
    }
   ],
   "source": [
    "# counting sort code walkthrough\n",
    "\n",
    "L = [4,2,2,8,3,3,1]\n",
    "countOccurences = [0]*(max(L)+1)\n",
    "\n",
    "for i in L:\n",
    "  countOccurences[i]+=1\n",
    "\n",
    "n = max(L)+1\n",
    "sortedArr = []\n",
    "print(countOccurences)\n",
    "for i in range(n):\n",
    "  for j in range(countOccurences[i]):\n",
    "    sortedArr.append(i)\n",
    "    print(sortedArr)\n"
   ]
  },
  {
   "cell_type": "code",
   "execution_count": 9,
   "metadata": {},
   "outputs": [
    {
     "name": "stdout",
     "output_type": "stream",
     "text": [
      "[5, 3, 13]\n",
      "[4, 7]\n",
      "Sorted Pos: [3, 5, 13]\n",
      "Sorted Neg: [4, 7]\n"
     ]
    }
   ],
   "source": [
    "# sort negatives using counting sort \n",
    "\n",
    "pos = []\n",
    "neg = []\n",
    "List = [5, -4, 3, -7, 13]\n",
    "for i in List:\n",
    "  if i < 0:\n",
    "    neg.append(-1*i)\n",
    "  else:\n",
    "    pos.append(i)\n",
    "print(pos)\n",
    "print(neg)\n",
    "\n",
    "\n",
    "def countingSort(L):\n",
    "  # [0-max value of list]\n",
    "  countOccurences = [0]*(max(L)-min(L)+1) \n",
    "\n",
    "  for i in L:\n",
    "    countOccurences[i-min(L)]+=1\n",
    "  N = len(countOccurences)\n",
    "  sortedArr = []\n",
    "  # print()\n",
    "  for i in range(N):\n",
    "    for j in range(countOccurences[i]):\n",
    "      sortedArr.append(i+min(L))\n",
    "  return sortedArr\n",
    "\n",
    "\n",
    "pos = countingSort(pos)\n",
    "print(\"Sorted Pos:\", pos)\n",
    "neg = countingSort(neg)\n",
    "print(\"Sorted Neg:\", neg)\n",
    "\n",
    "for i in neg:\n",
    " pos.insert(0,-1*i)"
   ]
  },
  {
   "cell_type": "markdown",
   "metadata": {},
   "source": [
    "***"
   ]
  },
  {
   "cell_type": "markdown",
   "metadata": {},
   "source": [
    "# 🗣 Bubble sort\n",
    "\n",
    "![Bubble sort](https://i1.faceprep.in/Companies-1/bubble-sort-in-c-implementation.png \"Bubble sort\")\n",
    "\n",
    "- rule of 👍🏽 -- reduce number of iterations to improve optimization \n",
    "\n",
    "\n",
    "## Time complexity\n",
    "\n",
    "- O(n^2)\n",
    "- O(1) best case\n",
    "- worst case when list is sorted in opposite manner (end to begin)\n",
    "\n",
    "\n",
    "## Space Complexity\n",
    "\n",
    "- n, i, j, swapped 4 variables\n",
    "- 4 * (n^0)\n",
    "- O(n^0) = O(1)"
   ]
  },
  {
   "cell_type": "code",
   "execution_count": 11,
   "metadata": {},
   "outputs": [
    {
     "name": "stdout",
     "output_type": "stream",
     "text": [
      "[29, 10, 14, 37, 14]\n"
     ]
    }
   ],
   "source": [
    "# bubble sort code walkthrough\n",
    "\n",
    "list_1 = [29, 10, 14, 37, 14]\n",
    "n = len(list_1)\n",
    "\n",
    "swapped = False # using this var to reduce iterations\n",
    "\n",
    "for i in range(1, n+1):\n",
    "    for j in range(n-i):\n",
    "        if list_1[i] > list_1[j]:\n",
    "            list_1[i], list_1[j] = list_1[j], list_1[i]\n",
    "            swapped == True\n",
    "    if swapped == False:\n",
    "        break\n",
    "print(list_1)"
   ]
  },
  {
   "cell_type": "markdown",
   "metadata": {},
   "source": [
    "***"
   ]
  }
 ],
 "metadata": {
  "kernelspec": {
   "display_name": "Python 3",
   "language": "python",
   "name": "python3"
  },
  "language_info": {
   "codemirror_mode": {
    "name": "ipython",
    "version": 3
   },
   "file_extension": ".py",
   "mimetype": "text/x-python",
   "name": "python",
   "nbconvert_exporter": "python",
   "pygments_lexer": "ipython3",
   "version": "3.7.3"
  }
 },
 "nbformat": 4,
 "nbformat_minor": 2
}
