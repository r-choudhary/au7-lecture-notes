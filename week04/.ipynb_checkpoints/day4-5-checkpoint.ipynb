{
 "cells": [
  {
   "cell_type": "markdown",
   "metadata": {},
   "source": [
    "# Week 04 > Day 4 - 5\n",
    "\n",
    "> 🗣 Priyesh, Feb 14, 2020"
   ]
  },
  {
   "cell_type": "markdown",
   "metadata": {},
   "source": [
    "## 👨🏻‍💻 Today\n",
    "\n",
    "- coin couting problem (recursion) > binary search with recursive approach > merge sort"
   ]
  },
  {
   "cell_type": "markdown",
   "metadata": {},
   "source": [
    "## ₹ Coin couting problem\n",
    "\n",
    "### Breaking down the problem\n",
    "\n",
    "- problem statement -- number of ways to return change in the given coins for a particular amoount where order is important\n",
    "- input -- amount ₹\n",
    "- output -- give number of coins\n",
    "- assuming -- we have unlimited num of coins of ₹ 1, 2, 5\n",
    "- constraints -- order is important\n",
    "    - ₹ 1 ₹ 1 ₹ 2\n",
    "    - ₹ 1 ₹ 2 ₹ 1\n",
    "    - both of these instances are different, since their order is differernt\n",
    "    \n",
    "### Approaches\n",
    "\n",
    "- we can begin by giving you ₹ 1 coin followed by remaining amount (n - 1)\n",
    "- or we can begin by giving you a ₹ 2 coin followed by remaining amount (n - 2) \n",
    "- or i can begin by giving you a ₹ 5 coin followed by remaining amount (n - 5)\n",
    "\n",
    "\n",
    "### 🔍 Cases\n",
    "\n",
    "- we won't give you more money than I owe you\n",
    "    - *first base case* -- if n < 0: return 0\n",
    "- i pay you exactly what i owe you in one coin only\n",
    "    - *second base case* - elif n == 0: return 1\n",
    "- else return ways(n-1)+ways(n-2)+ways(n-5)"
   ]
  },
  {
   "cell_type": "markdown",
   "metadata": {},
   "source": [
    "code snippet 1"
   ]
  },
  {
   "cell_type": "code",
   "execution_count": 2,
   "metadata": {},
   "outputs": [],
   "source": [
    "def ways(n):\n",
    "    if n < 0:\n",
    "        print(\"i owe you nothing, bruh\")\n",
    "        return 0\n",
    "    elif n == 0:\n",
    "        return 1\n",
    "    else:\n",
    "        return ways(n-1) + ways(n-2) + ways(n-5)"
   ]
  },
  {
   "cell_type": "markdown",
   "metadata": {},
   "source": [
    "***"
   ]
  },
  {
   "cell_type": "markdown",
   "metadata": {},
   "source": [
    "# Binary search with recursive approach"
   ]
  },
  {
   "cell_type": "markdown",
   "metadata": {},
   "source": [
    "code snippet 2"
   ]
  },
  {
   "cell_type": "code",
   "execution_count": 7,
   "metadata": {},
   "outputs": [
    {
     "name": "stdout",
     "output_type": "stream",
     "text": [
      "index  2\n"
     ]
    }
   ],
   "source": [
    "# code\n",
    "\n",
    "listA = [1, 2, 3, 4, 5]\n",
    "begin = 0\n",
    "end = len(listA) - 1\n",
    "elem = 3\n",
    "\n",
    "def binarySearch(listA, begin, end, elem):\n",
    "    if begin > end:\n",
    "        return \"element not found\"\n",
    "    mid = (begin + end)//2\n",
    "    if listA[mid] == elem:\n",
    "        return mid\n",
    "    elif listA[mid] < elem:\n",
    "        return binarySearch(listA, mid+1, end, elem)\n",
    "    else:\n",
    "        return binarySearch(listA, begin, mid-1, elem)\n",
    "    \n",
    "print(\"index \", binarySearch(listA, begin, end, elem))"
   ]
  },
  {
   "cell_type": "markdown",
   "metadata": {},
   "source": [
    "## Merge sort"
   ]
  },
  {
   "cell_type": "code",
   "execution_count": 8,
   "metadata": {},
   "outputs": [
    {
     "name": "stdout",
     "output_type": "stream",
     "text": [
      "when combined loop gets over i is  5 and j is  1\n",
      "L3 after combined comparison is: [1, 2, 2, 3, 4, 5]\n",
      "L1 is:  [1, 2, 3, 4, 5] and is of size:  5\n",
      "L2 is:  [2, 5, 7] and is of size:  3\n",
      "Final is:  [1, 2, 2, 3, 4, 5, 5, 7]\n"
     ]
    }
   ],
   "source": [
    "L1 = [1,2,3,4,5] #m\n",
    "L2 = [2,5,7] #n\n",
    "L3 = []\n",
    "\n",
    "i = 0\n",
    "lenL1 = len(L1)\n",
    "j = 0\n",
    "lenL2 = len(L2)\n",
    "\n",
    "while i < lenL1 and j < lenL2:\n",
    "  if L1[i]<=L2[j]:\n",
    "    L3.append(L1[i])\n",
    "    i+=1\n",
    "  else:\n",
    "    L3.append(L2[j])\n",
    "    j+=1\n",
    "\n",
    "print(\"when combined loop gets over i is \",i, \"and j is \",j)\n",
    "print(\"L3 after combined comparison is:\", L3)\n",
    "\n",
    "# incase L2 gets over first\n",
    "while i<lenL1:\n",
    "  L3.append(L1[i])\n",
    "  i+=1\n",
    "\n",
    "# incase L1 gets over first\n",
    "while j < lenL2:\n",
    "  L3.append(L2[j])\n",
    "  j+=1\n",
    "\n",
    "print(\"L1 is: \", L1, \"and is of size: \", len(L1))\n",
    "print(\"L2 is: \", L2, \"and is of size: \", len(L2))\n",
    "print(\"Final is: \", L3)"
   ]
  },
  {
   "cell_type": "markdown",
   "metadata": {},
   "source": [
    "***"
   ]
  }
 ],
 "metadata": {
  "kernelspec": {
   "display_name": "Python 3",
   "language": "python",
   "name": "python3"
  },
  "language_info": {
   "codemirror_mode": {
    "name": "ipython",
    "version": 3
   },
   "file_extension": ".py",
   "mimetype": "text/x-python",
   "name": "python",
   "nbconvert_exporter": "python",
   "pygments_lexer": "ipython3",
   "version": "3.7.3"
  }
 },
 "nbformat": 4,
 "nbformat_minor": 2
}
