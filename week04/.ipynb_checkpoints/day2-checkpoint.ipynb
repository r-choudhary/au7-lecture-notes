{
 "cells": [
  {
   "cell_type": "markdown",
   "metadata": {},
   "source": [
    "# Week 04 > Day 2\n",
    "\n",
    "> 🗣 Priyesh, Feb 11, 2020 \n",
    "\n",
    "\n",
    "## 👨🏻‍💻 Today\n",
    "\n",
    "- Review > insertion sort) > ⭐️ intro to recursion\n"
   ]
  },
  {
   "cell_type": "markdown",
   "metadata": {},
   "source": [
    "***"
   ]
  },
  {
   "cell_type": "markdown",
   "metadata": {},
   "source": [
    "## 🗣 Review"
   ]
  },
  {
   "cell_type": "markdown",
   "metadata": {},
   "source": [
    "### Bubble sort "
   ]
  },
  {
   "cell_type": "code",
   "execution_count": 1,
   "metadata": {},
   "outputs": [
    {
     "name": "stdout",
     "output_type": "stream",
     "text": [
      "[10, 14, 29, 14, 37]\n",
      "[10, 14, 14, 29, 37]\n",
      "\n",
      "final ans  [10, 14, 14, 29, 37]\n"
     ]
    }
   ],
   "source": [
    "listA = [29, 10, 14, 37, 14]\n",
    "length = len(listA)\n",
    "for i in range(1, length + 1):\n",
    "    swapped = False\n",
    "    for j in range(length - 1):\n",
    "        if listA[j] > listA[j+1]: # checking adjacent elements\n",
    "            listA[j+1], listA[j] = listA[j], listA[j+1] # swapping adjacent elements\n",
    "            swapped = True\n",
    "    if not swapped: # early exit\n",
    "        break\n",
    "    print(listA)\n",
    "print()\n",
    "print(\"final ans \", listA)"
   ]
  },
  {
   "cell_type": "markdown",
   "metadata": {},
   "source": [
    "***"
   ]
  },
  {
   "cell_type": "markdown",
   "metadata": {},
   "source": [
    "## 🗣 Insertion sort\n",
    "\n",
    "- figure (ref 1) \n",
    "    ![insertion sort](https://miro.medium.com/max/3204/1*5t5q_OLP-kGwQyblAN-nog.png \"insertion sort\")\n",
    "- list containing one element is always sorted\n",
    "\n",
    "### Time complexity \n",
    "\n",
    "- time complexity is best-case: O(1) and worst-case: O(n^2)\n",
    " - j loop = (i=1)(n-1)+(i=2)(n-2)+...+(i=n)(0) = n*(n-1)/2\n",
    " - O((n^2-n)/2)\n",
    " - O(n^2)\n",
    "\n",
    "### Space Complexity is O(1)\n",
    "- n, i, j, swapped 4 variables\n",
    "- 4 * (n^0) = O(n^0) = O(1)\n"
   ]
  },
  {
   "cell_type": "markdown",
   "metadata": {},
   "source": [
    "### Code snippet 1 -- adding/inserting data to particular location on a list"
   ]
  },
  {
   "cell_type": "code",
   "execution_count": 2,
   "metadata": {},
   "outputs": [
    {
     "name": "stdout",
     "output_type": "stream",
     "text": [
      "Initial List: [1, 2, 3, 4, 5]\n",
      "Final List: [1, 2, 3, 3, 4, 5]\n"
     ]
    }
   ],
   "source": [
    "# example 1\n",
    "\n",
    "elem = 3\n",
    "L = [1,2,3,4,5]\n",
    "print(\"Initial List:\", L)\n",
    "n = len(L)\n",
    "if elem < L[0]:\n",
    "  L.insert(0,elem)\n",
    "elif elem > L[n-1]:\n",
    "  L.append(elem)\n",
    "else:\n",
    "  for i in range(n-1):\n",
    "    if L[i] <= elem <= L[i+1]:\n",
    "      L.insert(i+1,elem)\n",
    "      break\n",
    "print(\"Final List:\", L)"
   ]
  },
  {
   "cell_type": "markdown",
   "metadata": {},
   "source": [
    "### Code snippet 2 -- splitting into right and left list or we create a new list "
   ]
  },
  {
   "cell_type": "code",
   "execution_count": 12,
   "metadata": {},
   "outputs": [
    {
     "name": "stdout",
     "output_type": "stream",
     "text": [
      "Sorted array is:\n",
      "5\n",
      "6\n",
      "11\n",
      "12\n",
      "13\n"
     ]
    }
   ],
   "source": [
    "# splitting into right and left list or we create a new list \n",
    "def insertionSort(arr):\n",
    "  \n",
    "    # Traverse through 1 to len(arr)\n",
    "    for i in range(1, len(arr)):\n",
    "  \n",
    "        key = arr[i]\n",
    "  \n",
    "        # Move elements of arr[0..i-1], that are\n",
    "        # greater than key, to one position ahead\n",
    "        # of their current position\n",
    "        j = i-1\n",
    "        while j >=0 and key < arr[j] :\n",
    "                arr[j+1] = arr[j]\n",
    "                j -= 1\n",
    "        arr[j+1] = key\n",
    "  # 3 new elements are all of length 1 hence space complexity is O(1)\n",
    "  \n",
    "# Driver code to test above\n",
    "arr = [12, 11, 13, 5, 6]\n",
    "insertionSort(arr)\n",
    "print (\"Sorted array is:\")\n",
    "for i in range(len(arr)):\n",
    "    print (\"%d\" %arr[i])"
   ]
  },
  {
   "cell_type": "markdown",
   "metadata": {},
   "source": [
    "### Code snippet 3 -- optimized insertion sort"
   ]
  },
  {
   "cell_type": "code",
   "execution_count": 13,
   "metadata": {},
   "outputs": [
    {
     "name": "stdout",
     "output_type": "stream",
     "text": [
      "Original List:  [5, 3, 4, 1, 8]\n",
      "[5]\n",
      "[3, 5]\n",
      "[3, 4, 5]\n",
      "[1, 3, 4, 5]\n",
      "[1, 3, 4, 5, 8]\n",
      "Sorted List: [1, 3, 4, 5, 8]\n"
     ]
    }
   ],
   "source": [
    "# optimized insertion sort\n",
    "\n",
    "def insertIntoList(L, n, elem):\n",
    "  # Takes an element and a sorted list and appends it in the right position\n",
    "  # elem = 3\n",
    "  # L = [1,2,3,4,5]\n",
    "  if elem < L[0]:\n",
    "    L.insert(0,elem)\n",
    "  elif elem > L[n-1]:\n",
    "    L.append(elem)\n",
    "  else:\n",
    "    for i in range(n-1):\n",
    "      if L[i] <= elem <= L[i+1]:\n",
    "        L.insert(i+1,elem)\n",
    "        break\n",
    "  return L\n",
    "# print(\"Final List:\",L)\n",
    "\n",
    "# Second logic: Splitting into right and left lists or we create a new list\n",
    "\n",
    "def insertionSort(L):\n",
    "  n = len(L)\n",
    "  L2 = []\n",
    "  for i in range(n):\n",
    "    val = L.pop(0)\n",
    "    if L2 == []:\n",
    "      L2 = [val]\n",
    "    else:\n",
    "      # insertIntoList(L, n, elem)\n",
    "      L2 = insertIntoList(L2,len(L2),val)\n",
    "    print(L2)\n",
    "  return L2\n",
    "\n",
    "# Space Complexity: L2(same size as L=n), val\n",
    "# O(len(L2)+1)\n",
    "# O(len(L2))\n",
    "# O(n)\n",
    "\n",
    "# Space Complexity: val, l2 takes space from L\n",
    "\n",
    "if __name__ == \"__main__\":\n",
    "  L = [5, 3, 4, 1, 8]\n",
    "  print(\"Original List: \", L)\n",
    "  L = insertionSort(L)\n",
    "  print(\"Sorted List:\", L)"
   ]
  },
  {
   "cell_type": "markdown",
   "metadata": {},
   "source": [
    "***"
   ]
  },
  {
   "cell_type": "markdown",
   "metadata": {},
   "source": [
    "## 🗣 Intro to recursion\n",
    "\n",
    "- final solution depends on smaller instances of the same problem"
   ]
  },
  {
   "cell_type": "markdown",
   "metadata": {},
   "source": [
    "### code snippet 4 -- define number of ways to return change"
   ]
  },
  {
   "cell_type": "code",
   "execution_count": 1,
   "metadata": {},
   "outputs": [
    {
     "name": "stdout",
     "output_type": "stream",
     "text": [
      "possible combinations  9\n"
     ]
    }
   ],
   "source": [
    "def num_ways_ret_change(num):\n",
    "    if num<0:\n",
    "        return 0\n",
    "    elif num == 0:\n",
    "        return 1\n",
    "    else:\n",
    "        return num_ways_ret_change(num-1)+num_ways_ret_change(num-2)+ num_ways_ret_change(num-5)\n",
    "    \n",
    "print(\"possible combinations \", num_ways_ret_change(5))"
   ]
  },
  {
   "cell_type": "markdown",
   "metadata": {},
   "source": [
    "#  *ref\n",
    "\n",
    "1. https://medium.com/swlh/sorting-algorithms-implementing-insertion-sort-using-swift-759d02aa443f"
   ]
  },
  {
   "cell_type": "markdown",
   "metadata": {},
   "source": [
    "***"
   ]
  }
 ],
 "metadata": {
  "kernelspec": {
   "display_name": "Python 3",
   "language": "python",
   "name": "python3"
  },
  "language_info": {
   "codemirror_mode": {
    "name": "ipython",
    "version": 3
   },
   "file_extension": ".py",
   "mimetype": "text/x-python",
   "name": "python",
   "nbconvert_exporter": "python",
   "pygments_lexer": "ipython3",
   "version": "3.7.3"
  }
 },
 "nbformat": 4,
 "nbformat_minor": 2
}
