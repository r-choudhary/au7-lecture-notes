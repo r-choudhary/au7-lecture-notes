{
 "cells": [
  {
   "cell_type": "markdown",
   "metadata": {},
   "source": [
    "# Week 05 > Day 5\n",
    "\n",
    "> 🗣 Priyesh, Feb 21, 2020"
   ]
  },
  {
   "cell_type": "markdown",
   "metadata": {},
   "source": [
    "## 📝 Resources --\n",
    "\n",
    "- [slides](https://docs.google.com/presentation/d/1lBnEc_rvWN_rVuEvoyFYXuShWKULWkYdkTrYa46ePWU/edit#slide=id.g7dcaa63405_0_5)\n",
    "- [repl](https://repl.it/repls/MildPortlyService)"
   ]
  },
  {
   "cell_type": "markdown",
   "metadata": {},
   "source": [
    "## 🗣 School assembly analogy --\n",
    "\n",
    "- remember standing in line during assembly in morning at school\n",
    "- class is best way to make blueprint for anything\n",
    "- blueprint for the child\n",
    "    - attributes -- strechted out arm and rest of the body\n",
    "    - functionality -- say the pledge, which is same for everyone, but can be **customized**\n",
    "- blueprint for the queque/line is morning school assembly\n",
    "    - attributes --arrow mark above last child in line\n",
    "    - functionality of pledge line -- join line from front and back, can name all students standing in particular line, leave the line from beginning to end, check if line is straight"
   ]
  },
  {
   "cell_type": "code",
   "execution_count": null,
   "metadata": {},
   "outputs": [],
   "source": [
    "# blueprint for a child \n",
    "class Node:\n",
    "    def __init__(self, data):\n",
    "        # initially we assume no one is standing in line\n",
    "        self.data = x \n",
    "        self.next = None # since there is no holding hands during assembly\n",
    "\n",
    "# blueprint for queue/line in assembly\n",
    "class LinkedList:\n",
    "    def __init__(self):\n",
    "        self.head = None\n",
    "    def insert_at_beinning(self): # kid is added from back of line\n",
    "        # we are going form BACK to FRONT in linked list\n",
    "        # constraint -- no one might be standing in line at all\n",
    "        if self.head is not None: # check if line is empty\n",
    "            student = Node(x)\n",
    "            self.head = student\n",
    "        else: # if you stand behind the first person in queue\n",
    "            # look for student with arrow\n",
    "            # step 1 -- get location (pointer) of last student, which is equal to student at last currently\n",
    "            # step 2 -- update that pointer with new student\n",
    "            # step 3 -- write code below\n",
    "            \n",
    "            person = Node(x)\n",
    "            person.next = self.head\n",
    "            self.head = person\n",
    "            "
   ]
  },
  {
   "cell_type": "markdown",
   "metadata": {},
   "source": [
    "## Circular linked list 🙌🏽 -- \n",
    "\n",
    "- analogy of bunch of person holding hands, standing in a circle, doing God know what\n",
    "- head is head, right arm of every person is pointer/memory address reference for next person\n",
    "\n",
    "- adding to first location is issue?\n",
    "    - \n",
    "- how to add a new person at second position?\n",
    "    - what you need -- whose "
   ]
  },
  {
   "cell_type": "code",
   "execution_count": null,
   "metadata": {},
   "outputs": [],
   "source": [
    "# add 100|800 to cicular linked list\n",
    "\n",
    "class circularLinkedList:\n",
    "    def __init__(self):\n",
    "        self.head = None\n",
    "        \n",
    "    def insertAtBeginning(self, x):\n",
    "        if self.head is None:\n",
    "            node = Node(x)\n",
    "            self.head = node\n",
    "            node.next = self.head\n",
    "        else:\n",
    "            node = Node(x) # create a new empty node\n",
    "            node.next = self.head # point to next node's address\n",
    "            curr_node = self.head\n",
    "            while curr_node.next != self.head:\n",
    "                curr_node = curr_node.next\n",
    "                curr_node.next = node\n",
    "                self.head = node\n",
    "                # we're at end of the circular linked list"
   ]
  },
  {
   "cell_type": "markdown",
   "metadata": {},
   "source": [
    "## 🗣 Insert into a circular list time complexity --\n",
    "\n",
    "- insert at the beginning\n",
    "    - time complexity -- O(n)\n",
    "    - algorithm --\n",
    "        1. create a new node and save its next as the list head\n",
    "        2. point the next of last element to newly created node\n",
    "        3. change the head of the list to the newly create node\n",
    "        \n",
    "        \n",
    "- insert at any index in the circular list\n",
    "    - time complexity: O(index) this is the best case, worst case is O(n)\n",
    "    - algorithm -- \n",
    "        1. create a new node\n",
    "        2. iterate through the list till index - 1 as the curr_node\n",
    "        3. New_node.next = curr_node.next\n",
    "        4. current_node.next = new_node        "
   ]
  },
  {
   "cell_type": "markdown",
   "metadata": {},
   "source": [
    "## 🗣 Sorted insert for circular list\n",
    "\n",
    "### Algorithm --\n",
    "1. create a new node\n",
    "2. iterate through the list and break it down\n",
    "    curr_node.data <= new_node.data <= cur_node.next.data\n",
    "3. new_node.next = curr_node.next\n",
    "4. curr_node.next = new_node"
   ]
  },
  {
   "cell_type": "markdown",
   "metadata": {},
   "source": [
    "## 🗣 Split a circular linked list into two halves"
   ]
  },
  {
   "cell_type": "code",
   "execution_count": 9,
   "metadata": {},
   "outputs": [],
   "source": [
    "class Node:\n",
    "  def __init__(self,x):\n",
    "    self.data = x\n",
    "    self.next = None\n",
    "\n",
    "class LinkedList:\n",
    "  def __init__(self):\n",
    "    #initially no one is standing in the line\n",
    "    self.head = None\n",
    "  def insert_at_beginning(self,x):\n",
    "    #joining from the back of the line.\n",
    "    # no one might be standing in the line at all.\n",
    "    if self.head is None:\n",
    "      person = Node(x)\n",
    "      self.head = person\n",
    "    else:\n",
    "      person = Node(x)\n",
    "      person.next = self.head\n",
    "      self.head = person\n",
    "\n",
    "\n",
    "class CircularLinkedList:\n",
    "  def __init__(self):\n",
    "    self.head = None\n",
    "  \n",
    "  def insert_at_beginning(self,x):\n",
    "    if self.head is None:\n",
    "      node = Node(x)\n",
    "      self.head = node\n",
    "      node.next = self.head\n",
    "    else:\n",
    "      node = Node(x)\n",
    "      node.next = self.head\n",
    "      curr_node = self.head\n",
    "      while curr_node.next != self.head:\n",
    "        curr_node = curr_node.next\n",
    "      curr_node.next = node\n",
    "      self.head = node\n",
    "\n",
    "  def split2halves(self):\n",
    "    self.head1 = self.head\n",
    "    self.head2 = None\n",
    "\n",
    "    rabbit = self.head\n",
    "    turtle = self.head\n",
    "\n",
    "    while rabbit.next != self.head:\n",
    "      rabbit = rabbit.next\n",
    "      if rabbit.next != self.head:\n",
    "        rabbit = rabbit.next\n",
    "      else:\n",
    "        break\n",
    "      turtle = turtle.next\n",
    "    \n",
    "    self.head2 = turtle.next\n",
    "    \n",
    "\n",
    "\n",
    "c = CircularLinkedList()\n",
    "c.insert_at_beginning(4)\n",
    "c.insert_at_beginning(3)\n",
    "c.insert_at_beginning(2)\n",
    "c.insert_at_beginning(1)\n",
    "\n",
    "c.split2halves()"
   ]
  },
  {
   "cell_type": "markdown",
   "metadata": {},
   "source": [
    "## 🗣 Doubly linked list"
   ]
  },
  {
   "cell_type": "code",
   "execution_count": 10,
   "metadata": {},
   "outputs": [],
   "source": [
    "class DoubleNode:\n",
    "  def __init__(self,x):\n",
    "    self.data = x\n",
    "    self.next = None\n",
    "    self.prev = None\n",
    "\n",
    "class DoublyLinkedList:\n",
    "  def __init__(self):\n",
    "    self.head = None\n",
    "\n",
    "  def insert_at_beginning(self,data=100):\n",
    "    if self.head is not None:\n",
    "      new_node = Node(data)\n",
    "      new_node.next = self.head\n",
    "      self.head.prev = new_node\n",
    "      self.head = new_node\n",
    "    else:\n",
    "      new_node = Node(data)\n",
    "      self.head = new_node"
   ]
  },
  {
   "cell_type": "markdown",
   "metadata": {},
   "source": [
    "## 🗣 Insert into doubly linked list -1 \n",
    "\n",
    "- Insert at the beginning\n",
    "- Time Complexity: O(1)\n",
    "- Algorithm:\n",
    "    1. If list is empty then create a new node and point head to it\n",
    "    2. Else, create a new node. Set current first node’s previous to this new node.\n",
    "    3. Set the next of new node to the node pointed by head\n",
    "    4. Set head as the new node\n",
    "\n",
    "- Insert after a particular index\n",
    "- Time Complexity:\n",
    "- Algorithm:(100 between B and C)\n",
    "    1. Create a new node\n",
    "    2. Loop till index-1 as the current node\n",
    "    3. new_node.next = cur_node.next\n",
    "    4. new_node.prev = cur_node\n",
    "    5. cur_node.next = new_node\n",
    "    6. new_node.next.prev = new_node\n"
   ]
  },
  {
   "cell_type": "markdown",
   "metadata": {},
   "source": [
    "## Reverse a doubly linked list"
   ]
  },
  {
   "cell_type": "markdown",
   "metadata": {},
   "source": [
    "***"
   ]
  }
 ],
 "metadata": {
  "kernelspec": {
   "display_name": "Python 3.8.1 64-bit",
   "language": "python",
   "name": "python38164bitfe7721d33d23491ebe9f3df50ebfb0a2"
  },
  "language_info": {
   "codemirror_mode": {
    "name": "ipython",
    "version": 3
   },
   "file_extension": ".py",
   "mimetype": "text/x-python",
   "name": "python",
   "nbconvert_exporter": "python",
   "pygments_lexer": "ipython3",
   "version": "3.8.1"
  }
 },
 "nbformat": 4,
 "nbformat_minor": 2
}
