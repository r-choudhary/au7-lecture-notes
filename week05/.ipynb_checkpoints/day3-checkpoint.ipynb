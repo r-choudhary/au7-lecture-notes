{
 "cells": [
  {
   "cell_type": "markdown",
   "metadata": {},
   "source": [
    "# Week 05 > Day 3\n",
    "\n",
    "> 🗣 Priyesh, Feb 19, 2020\n",
    "\n",
    "- Lecture slide -- [here](https://docs.google.com/presentation/d/1uaTJUj_lSEmBt0W6cAnSkWmj2UKXHctDZsW_QEPkX9g/edit?usp=sharing)\n",
    "\n",
    "- Repl -- [here](https://repl.it/repls/WorriedQuarterlyPackages)"
   ]
  },
  {
   "cell_type": "markdown",
   "metadata": {},
   "source": [
    "## ✅ Today's agenda --\n",
    "\n",
    "- Sorting [Revise]\n",
    "- Questions based on Sorting\n",
    "- Basics of Object Oriented Programming\n",
    "- Linked List [Intro]"
   ]
  },
  {
   "cell_type": "markdown",
   "metadata": {},
   "source": [
    "## 🗣 Review sorting algorithms --\n",
    "\n",
    "- Selection sort\n",
    "- Insertion sort\n",
    "- Bubble sort\n",
    "- Counting sort\n",
    "- Merge sort"
   ]
  },
  {
   "cell_type": "markdown",
   "metadata": {},
   "source": [
    "## 🗣 Questions on sorting\n",
    "> find this in lecture slide -- https://docs.google.com/presentation/d/1uaTJUj_lSEmBt0W6cAnSkWmj2UKXHctDZsW_QEPkX9g/edit#slide=id.g6f21d5fc80_0_6\n",
    "\n",
    "- problems \n",
    "    - https://www.hackerrank.com/challenges/insertionsort2/problem\n",
    "    - https://www.hackerrank.com/challenges/countingsort2\n",
    "    - https://www.hackerrank.com/challenges/quicksort1\n",
    "    - https://www.hackerrank.com/challenges/countingsort4\n",
    "\n",
    "- resources\n",
    "    - https://www.geeksforgeeks.org/counting-inversions/ (Video solution available) (also available on visual algo, you can refer it) \n",
    "    - https://www.geeksforgeeks.org/find-number-pairs-xy-yx/ (Video Solution available) "
   ]
  },
  {
   "cell_type": "markdown",
   "metadata": {},
   "source": [
    "## 🗣Basics of OOP --\n",
    "\n",
    "- class (blueprint) and objects\n",
    "- self (or \"this\" in javascript)"
   ]
  },
  {
   "cell_type": "markdown",
   "metadata": {},
   "source": [
    "***"
   ]
  }
 ],
 "metadata": {
  "kernelspec": {
   "display_name": "Python 3.8.1 64-bit",
   "language": "python",
   "name": "python38164bitfe7721d33d23491ebe9f3df50ebfb0a2"
  },
  "language_info": {
   "codemirror_mode": {
    "name": "ipython",
    "version": 3
   },
   "file_extension": ".py",
   "mimetype": "text/x-python",
   "name": "python",
   "nbconvert_exporter": "python",
   "pygments_lexer": "ipython3",
   "version": "3.8.1"
  }
 },
 "nbformat": 4,
 "nbformat_minor": 2
}
