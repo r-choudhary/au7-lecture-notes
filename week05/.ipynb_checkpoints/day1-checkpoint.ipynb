{
 "cells": [
  {
   "cell_type": "markdown",
   "metadata": {},
   "source": [
    "# Week 05 > Day 1\n",
    "\n",
    "> 🗣 Priyesh, Feb 17, 2020"
   ]
  },
  {
   "cell_type": "markdown",
   "metadata": {},
   "source": [
    "## 👨🏻‍💻 Agenda:\n",
    "\n",
    "- Merging 2 sorted lists (revision)\n",
    "- Time Complexity of Recursive Code\n",
    "- Merge Sort\n",
    "- Quick Sort"
   ]
  },
  {
   "cell_type": "markdown",
   "metadata": {},
   "source": [
    "code snippet 1"
   ]
  },
  {
   "cell_type": "code",
   "execution_count": 3,
   "metadata": {},
   "outputs": [
    {
     "name": "stdout",
     "output_type": "stream",
     "text": [
      "[1, 3, 4, 5, 6, 7, 8, 9, 10, 11]\n"
     ]
    }
   ],
   "source": [
    "# take 2 sorted lists and merge them so that the resultant list is sorted\n",
    "\n",
    "test_list1 = [3, 5, 7, 8, 11]\n",
    "test_list2 = [1, 4, 6, 9, 10]\n",
    "\n",
    "def merge(test_list1, test_list2):\n",
    "  size_1 = len(test_list1)\n",
    "  size_2 = len(test_list2)\n",
    "    \n",
    "  res = []\n",
    "  i, j = 0, 0\n",
    "    \n",
    "  while i < size_1 and j < size_2:\n",
    "      if test_list1[i] <= test_list2[j]:\n",
    "        res.append(test_list1[i])\n",
    "        i += 1\n",
    "      else:\n",
    "        res.append(test_list2[j])\n",
    "        j += 1\n",
    "    \n",
    "  while i < size_1:\n",
    "    res.append(test_list1[i])\n",
    "    i+=1\n",
    "\n",
    "  while j < size_2:\n",
    "    res.append(test_list2[j])\n",
    "    j+=1\n",
    "    \n",
    "  return res\n",
    "\n",
    "print(merge(test_list1, test_list2))"
   ]
  },
  {
   "cell_type": "markdown",
   "metadata": {},
   "source": [
    "## 🗣 Merge sort:\n",
    "\n",
    "- divide and conquer \n",
    "- remember -- a list with single element is always sorted"
   ]
  },
  {
   "cell_type": "code",
   "execution_count": 7,
   "metadata": {},
   "outputs": [
    {
     "name": "stdout",
     "output_type": "stream",
     "text": [
      "og list --  [70, 50, 30, 10, 20, 40, 60]\n",
      "sorted list -- [10, 20, 30, 40, 50, 60, 70]\n"
     ]
    }
   ],
   "source": [
    "arr = [70,50,30,10,20,40,60]\n",
    "def merge_sort(arr,low,high):\n",
    "  if low<high:\n",
    "    mid = (low+high)//2\n",
    "    merge_sort(arr,low,mid)\n",
    "    merge_sort(arr,mid+1,high)\n",
    "    arr[low:high+1] = merge(arr[low:mid+1],arr[mid+1:high+1])\n",
    "\n",
    "print(\"og list -- \", arr)\n",
    "merge_sort(arr,0,len(arr)-1)\n",
    "print(\"sorted list --\", arr)"
   ]
  },
  {
   "cell_type": "markdown",
   "metadata": {},
   "source": [
    "## 🗣 Quick sort:\n",
    "\n",
    "\n",
    "- there are many different versions of quickSort that pick pivot in different ways:\n",
    "    - always pick first element as pivot\n",
    "    - always pick last element as pivot (implemented below)\n",
    "    - pick a random element as pivot\n",
    "    - pick median as pivot\n",
    "\n",
    "### 3 step approach for recursive code:\n",
    "\n",
    "- ⭐️ when working with recursive code, 3 step approach \n",
    "    - split into simpler problems\n",
    "    - need to find out he simplest problem\n",
    "    - solve the simplest problem and see it builds back up to the complex problem"
   ]
  },
  {
   "cell_type": "code",
   "execution_count": 13,
   "metadata": {},
   "outputs": [],
   "source": [
    "def partition(arr,low,high):\n",
    "    i = (low - 1)\n",
    "    pivot = arr[high]\n",
    "    for j in range(low , high):\n",
    "        if arr[j] <= pivot:        \n",
    "            i = i+1 \n",
    "            arr[i],arr[j] = arr[j],arr[i]\n",
    "    arr[i+1],arr[high] = arr[high],arr[i+1]\n",
    "    return ( i+1 )\n",
    "  \n",
    "# The main function that implements\n",
    "# QuickSort\n",
    "# arr[] --> Array to be sorted,\n",
    "# low  --> Starting index,\n",
    "# high  --> Ending index\n",
    "# Function to do Quick sort\n",
    "def quickSort(arr,low,high):\n",
    "    if low < high:\n",
    "        pi = partition(arr,low,high)\n",
    "        quickSort(arr, low, pi-1)\n",
    "        quickSort(arr, pi+1, high)"
   ]
  },
  {
   "cell_type": "markdown",
   "metadata": {},
   "source": [
    "***"
   ]
  }
 ],
 "metadata": {
  "kernelspec": {
   "display_name": "Python 3",
   "language": "python",
   "name": "python3"
  },
  "language_info": {
   "codemirror_mode": {
    "name": "ipython",
    "version": 3
   },
   "file_extension": ".py",
   "mimetype": "text/x-python",
   "name": "python",
   "nbconvert_exporter": "python",
   "pygments_lexer": "ipython3",
   "version": "3.7.3"
  }
 },
 "nbformat": 4,
 "nbformat_minor": 2
}
