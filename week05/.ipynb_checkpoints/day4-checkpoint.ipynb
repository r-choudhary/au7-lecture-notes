{
 "cells": [
  {
   "cell_type": "markdown",
   "metadata": {},
   "source": [
    "# Week 05 > Day 4\n",
    "> 🗣 Priyesh, Feb 20, 2020"
   ]
  },
  {
   "cell_type": "markdown",
   "metadata": {},
   "source": [
    "- [slides for today](https://docs.google.com/presentation/d/1bJq8h2mbOWGjBB-dqGZ_2TkFsJvzt1nch5u47ztqRI8/edit?usp=sharing)\n",
    "- [repl for today](https://repl.it/repls/EmptyMotherlyTrial)"
   ]
  },
  {
   "cell_type": "markdown",
   "metadata": {},
   "source": [
    "## ✅ Today --\n",
    "\n",
    "- cons of lists\n",
    "- linked list\n",
    "- linked list functions\n",
    "- circular linked list"
   ]
  },
  {
   "cell_type": "markdown",
   "metadata": {},
   "source": [
    "## 🗣 Linked lists -- "
   ]
  },
  {
   "cell_type": "markdown",
   "metadata": {},
   "source": [
    "### Cons of lists --\n",
    "\n",
    "- continuos memory allocation is a problem for system\n",
    "- to delete element from beginning of list, time complexity is O(n)\n",
    "- add element from beginning of list, time complexity is O(n)\n",
    "- sizing is a issue, in other programming lagnuages arrays are dynamic\n",
    "- wastes a lot of memory\n",
    "    - Sizing. L = [1] size = 1, L.append(2)\n",
    "    - L = [1,2] size = 2\n",
    "    - L.append(3)\n",
    "    - L = [0,0,0,0] size = 4\n",
    "    - L = [1,2,3,0]\n",
    "    - L.append(4)\n",
    "    - L = [1,2,3,4]\n",
    "    - L.append(5)\n",
    "    - L = [0,0,0,0,0,0,0,0]\n",
    "    - L = [1,2,3,4,5,0,0,0]\n",
    "\n",
    "### intro linked lists --\n",
    "\n",
    "- like arrays, linked list is a linear data structure \n",
    "- not stored in contiguous memory locations\n",
    "- elements are linked using pointers\n",
    "- A linked list is represented by a pointer to the first node of the linked list. The first node is called the head.\n",
    "- If the linked list is empty, then the value of the head is NULL.\n",
    "- Each node in a list consists of at least two parts:\n",
    "    - data\n",
    "    - Pointer (Or Reference) to the next node\n",
    "\n",
    "### doubly linked lists --\n",
    "\n",
    "- homework for today"
   ]
  },
  {
   "cell_type": "markdown",
   "metadata": {},
   "source": [
    "👨🏻‍💻 code snippet 1"
   ]
  },
  {
   "cell_type": "code",
   "execution_count": 8,
   "metadata": {},
   "outputs": [
    {
     "name": "stdout",
     "output_type": "stream",
     "text": [
      "<__main__.Node object at 0x1106abc70>\n",
      "<__main__.Node object at 0x1106ab220>\n",
      "None\n",
      "6\n"
     ]
    }
   ],
   "source": [
    "class Node:\n",
    "  def __init__(self,data):\n",
    "    self.data = data\n",
    "    self.next = None\n",
    "\n",
    "class LinkedList:\n",
    "  def __init__(self):\n",
    "    self.head = None\n",
    "\n",
    "l = LinkedList()\n",
    "n1 = Node(5)\n",
    "n2 = Node(6)\n",
    "\n",
    "l.head = n1\n",
    "n1.next = n2\n",
    "\n",
    "# print mem locations\n",
    "print(l.head)\n",
    "print(n1.next)\n",
    "print(n2.next)\n",
    "\n",
    "# print data in n2 using only list\n",
    "print(l.head.next.data)"
   ]
  },
  {
   "cell_type": "markdown",
   "metadata": {},
   "source": [
    "👨🏻‍💻 code snippet 2"
   ]
  },
  {
   "cell_type": "code",
   "execution_count": 11,
   "metadata": {},
   "outputs": [
    {
     "name": "stdout",
     "output_type": "stream",
     "text": [
      "5->6->7->None\n"
     ]
    }
   ],
   "source": [
    "# print all elements of list\n",
    "# con -- since we have to traverse entire linked list for accessing every element \n",
    "\n",
    "class Node:\n",
    "  def __init__(self,data):\n",
    "    self.data = data\n",
    "    self.next = None\n",
    "\n",
    "class LinkedList:\n",
    "  def __init__(self):\n",
    "    self.head = None\n",
    "  def tranverse(self):\n",
    "    temp = self.head\n",
    "    while temp is not None:\n",
    "      print(str(temp.data)+\"->\", end=\"\")\n",
    "      temp = temp.next\n",
    "    print(\"None\")\n",
    "\n",
    "l = LinkedList()\n",
    "n1 = Node(5)\n",
    "n2 = Node(6)\n",
    "n3 = Node(7)\n",
    "# [5,6,7]\n",
    "# L -> n1\n",
    "l.head = n1\n",
    "# n1 -> n2\n",
    "n1.next = n2\n",
    "n2.next = n3\n",
    "l.tranverse()"
   ]
  },
  {
   "cell_type": "markdown",
   "metadata": {},
   "source": [
    "👨🏻‍💻 code snippet 3"
   ]
  },
  {
   "cell_type": "code",
   "execution_count": 12,
   "metadata": {},
   "outputs": [
    {
     "name": "stdout",
     "output_type": "stream",
     "text": [
      "NONE\n",
      "67->NONE\n"
     ]
    }
   ],
   "source": [
    "# adding/appending a element to a linked list\n",
    "\n",
    "class Node:\n",
    "  def __init__(self,data):\n",
    "    self.data = data\n",
    "    self.next = None\n",
    "\n",
    "class LinkedList:\n",
    "  def __init__(self):\n",
    "    self.head = None\n",
    "  def traverse(self):\n",
    "    curr_node = self.head\n",
    "    while curr_node is not None:\n",
    "      print(str(curr_node.data)+\"->\",end=\"\")\n",
    "      curr_node = curr_node.next\n",
    "    print(\"NONE\")\n",
    "  def ll_append(self,data):\n",
    "    #Empty Linked list condn\n",
    "    if self.head is None:\n",
    "      self.head = Node(data)\n",
    "    else:\n",
    "      curr_node = self.head\n",
    "      while curr_node.next is not None:\n",
    "        curr_node = curr_node.next\n",
    "      curr_node.next = Node(data) \n",
    "\n",
    "l = LinkedList()\n",
    "l.traverse()\n",
    "l.ll_append(67)\n",
    "l.traverse()"
   ]
  },
  {
   "cell_type": "markdown",
   "metadata": {},
   "source": [
    "👨🏻‍💻 code snippet 4"
   ]
  },
  {
   "cell_type": "code",
   "execution_count": 13,
   "metadata": {},
   "outputs": [
    {
     "name": "stdout",
     "output_type": "stream",
     "text": [
      "NONE\n",
      "67->NONE\n"
     ]
    }
   ],
   "source": [
    "class Node:\n",
    "  def __init__(self,data):\n",
    "    self.data = data\n",
    "    self.next = None\n",
    "\n",
    "class LinkedList:\n",
    "  def __init__(self):\n",
    "    self.head = None\n",
    "  def traverse(self):\n",
    "    curr_node = self.head\n",
    "    while curr_node is not None:\n",
    "      print(str(curr_node.data)+\"->\",end=\"\")\n",
    "      curr_node = curr_node.next\n",
    "    print(\"NONE\")\n",
    "  def ll_append(self,data):\n",
    "    #Empty Linked list condn\n",
    "    if self.head is None:\n",
    "      self.head = Node(data)\n",
    "    else:\n",
    "      curr_node = self.head\n",
    "      while curr_node.next is not None:\n",
    "        curr_node = curr_node.next\n",
    "      curr_node.next = Node(data)\n",
    "  def ll_append_begin(self, data):\n",
    "    #Empty Linked list condn\n",
    "    if self.head is None:\n",
    "      self.head = Node(data)\n",
    "    else:\n",
    "      new_node = Node(data)\n",
    "      new_node.next = self.head\n",
    "      self.head = new_node\n",
    "\n",
    "  def ll_insert(self,data,index):\n",
    "    #Empty Linked list condn\n",
    "    if index == 0:\n",
    "      self.ll_append_begin(data)\n",
    "    elif self.head is None:\n",
    "      self.head = Node(data)\n",
    "    else:\n",
    "      curr_node = self.head\n",
    "      curr_idx = 1\n",
    "      while curr_node.next is not None:\n",
    "        if curr_idx == index:\n",
    "          new_node = Node(data)\n",
    "          new_node.next = curr_node.next     \n",
    "          curr_node.next = new_node\n",
    "          break\n",
    "        curr_node = curr_node.next\n",
    "        curr_idx+=1\n",
    "      else:\n",
    "        curr_node.next = Node(data)\n",
    "\n",
    "\n",
    "l = LinkedList()\n",
    "l.traverse()\n",
    "l.ll_append(67)\n",
    "l.traverse()"
   ]
  },
  {
   "cell_type": "markdown",
   "metadata": {},
   "source": [
    "## 🗣 Linked list functions --"
   ]
  },
  {
   "cell_type": "markdown",
   "metadata": {},
   "source": [
    "## 🗣 Circular linked list --"
   ]
  },
  {
   "cell_type": "code",
   "execution_count": 21,
   "metadata": {},
   "outputs": [
    {
     "ename": "SyntaxError",
     "evalue": "'break' outside loop (<ipython-input-21-cf09e29b3e4e>, line 12)",
     "output_type": "error",
     "traceback": [
      "\u001b[0;36m  File \u001b[0;32m\"<ipython-input-21-cf09e29b3e4e>\"\u001b[0;36m, line \u001b[0;32m12\u001b[0m\n\u001b[0;31m    break\u001b[0m\n\u001b[0m    ^\u001b[0m\n\u001b[0;31mSyntaxError\u001b[0m\u001b[0;31m:\u001b[0m 'break' outside loop\n"
     ]
    }
   ],
   "source": [
    "# figure out from this repl -- https://repl.it/repls/EmptyMotherlyTrial\n",
    "\n",
    "def find_mid_2(self):\n",
    "    rabbit = self.head\n",
    "    turtle = self.head\n",
    "    while rabbit is not None and turtle is not None:\n",
    "        rabbit = rabbit.next\n",
    "    # In case of odd lists, It will give error saying, Nonetype has no attribute next. AttributeError\n",
    "    if rabbit is not None:\n",
    "        rabbit = rabbit.next\n",
    "    else:\n",
    "        break\n",
    "    turtle = turtle.next\n",
    "return turtle\n",
    "\n",
    "def detect_cycle(self):\n",
    "    rabbit = self.head\n",
    "    turtle = self.head\n",
    "    print(turtle,rabbit)\n",
    "    while rabbit is not None and turtle is not None:\n",
    "        rabbit = rabbit.next\n",
    "  # In case of odd lists, It will give error saying, Nonetype has no attribute next. AttributeError\n",
    "    if rabbit is not None:\n",
    "        rabbit = rabbit.next\n",
    "    else:\n",
    "        break\n",
    "    turtle = turtle.next\n",
    "    print(turtle,rabbit)\n",
    "    if rabbit is not None and rabbit.next == turtle:\n",
    "        print(\"Loop Exists\")\n",
    "        break\n",
    "\n",
    "l = LinkedList()\n",
    "n1 = Node(1)\n",
    "n2 = Node(2)\n",
    "n3 = Node(3)\n",
    "n4 = Node(4)\n",
    "n5 = Node(5)\n",
    "l.head = n1\n",
    "n1.next = n2\n",
    "n2.next = n3\n",
    "n3.next = n4\n",
    "n4.next = n5\n",
    "n5.next = n2\n",
    "l.detect_cycle()"
   ]
  },
  {
   "cell_type": "markdown",
   "metadata": {},
   "source": [
    "***"
   ]
  }
 ],
 "metadata": {
  "kernelspec": {
   "display_name": "Python 3.8.1 64-bit",
   "language": "python",
   "name": "python38164bitfe7721d33d23491ebe9f3df50ebfb0a2"
  },
  "language_info": {
   "codemirror_mode": {
    "name": "ipython",
    "version": 3
   },
   "file_extension": ".py",
   "mimetype": "text/x-python",
   "name": "python",
   "nbconvert_exporter": "python",
   "pygments_lexer": "ipython3",
   "version": "3.8.1"
  }
 },
 "nbformat": 4,
 "nbformat_minor": 2
}
