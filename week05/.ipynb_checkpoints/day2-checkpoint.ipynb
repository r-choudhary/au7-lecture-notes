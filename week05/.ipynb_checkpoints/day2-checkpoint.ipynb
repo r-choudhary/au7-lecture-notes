{
 "cells": [
  {
   "cell_type": "markdown",
   "metadata": {},
   "source": [
    "# Week 05 > Day 2\n",
    "\n",
    "> 🗣 Priyesh, Feb 18, 2020\n",
    "\n",
    "- lecture slide -- [here](https://docs.google.com/presentation/d/179HNLQNtXGTMiqyHgYudbMcmpc5RWtzVd-C1DID6S4U/edit#slide=id.g7dcaa63405_0_23)\n",
    "\n",
    "- repl -- [here](https://repl.it/repls/BoringFrostyInstitutions)"
   ]
  },
  {
   "cell_type": "markdown",
   "metadata": {},
   "source": [
    "## ✅ Today's agenda --\n",
    "\n",
    "- Time complexity of merge sort > quick sort > time complexity of quick sort > summary of all sorting algorithms"
   ]
  },
  {
   "cell_type": "markdown",
   "metadata": {},
   "source": [
    "## 🚀 Time complexity of merge sort --"
   ]
  },
  {
   "cell_type": "markdown",
   "metadata": {},
   "source": [
    "code snippet #1"
   ]
  },
  {
   "cell_type": "code",
   "execution_count": 1,
   "metadata": {},
   "outputs": [],
   "source": [
    "test_list1 = [3, 5, 7, 8, 11]\n",
    "test_list2 = [1, 4, 6, 9, 10]\n",
    "\n",
    "def merge(test_list1, test_list2):\n",
    "  size_1 = len(test_list1)\n",
    "  size_2 = len(test_list2)\n",
    "  res = []\n",
    "  i, j = 0, 0\n",
    "  while i < size_1 and j < size_2:\n",
    "      if test_list1[i] <= test_list2[j]:\n",
    "        res.append(test_list1[i])\n",
    "        i += 1\n",
    "      else:\n",
    "        res.append(test_list2[j])\n",
    "        j += 1\n",
    "  while i < size_1:\n",
    "    res.append(test_list1[i])\n",
    "    i+=1\n",
    "  while j < size_2:\n",
    "    res.append(test_list2[j])\n",
    "    j+=1    \n",
    "  return res\n",
    "\n",
    "arr = [70,50,30,10,20,40,60]\n",
    "# arr = [70,50]\n",
    "def merge_sort(arr,low,high):\n",
    "  if low<high:\n",
    "    mid = (low+high)//2 # O(1)\n",
    "    merge_sort(arr,low,mid) # O(1)\n",
    "    merge_sort(arr,mid+1,high) # O(1)\n",
    "    arr[low:high+1] = merge(arr[low:mid+1],arr[mid+1:high+1]) # O(1)\n",
    "    # T(1) = O(1) + O(1) + O(1) + O(1) = O(1)\n",
    "    print(arr)"
   ]
  },
  {
   "cell_type": "markdown",
   "metadata": {},
   "source": [
    "### Arr of size n, T(n)\n",
    "\n",
    "- arr of size n/2, T(n/2) -- time half since arr size is halved, duh \n",
    "- merge function O(n//2 + n//2) = O(n)\n",
    "\n",
    "### Write T(n) in terms of T(1)\n",
    "\n",
    "- T(n) = 2*T(n/2)+O(n)\n",
    "- T(n/2) = 2*T(n/4)+O(n/2)\n",
    "- T(n/4) = 2*T(n/8)+O(n/4)\n",
    "- T(n) = 2*T(n/2)+O(n)\n",
    "- T(n) = 4*T(n/4)+2*O(n/2)+O(n)\n",
    "- T(n) = 4*T(n/4)+2*O(n) (59 and 64)\n",
    "- T(n) = 8*T(n/8)+3*O(n)\n",
    "\n",
    "### write equation in 2^k instead of 8\n",
    "\n",
    "- c = a^b => b = log_a(c)\n",
    "- n/2^k = 1 =>n = 2^k => (k = log_2(n))\n",
    "- T(n) = n*T(1)+log_2(n)*O(n)\n",
    "- T(n) = n*O(1)+log_2(n)*O(n)\n",
    "- T(n) = O(n)+O(n*log_2(n))\n",
    "- T(n) = O(n*log_2(n))\n",
    "- T(n) = O(n*logn)"
   ]
  },
  {
   "cell_type": "markdown",
   "metadata": {},
   "source": [
    "***"
   ]
  },
  {
   "cell_type": "markdown",
   "metadata": {},
   "source": [
    "## 🗣 Factorial example"
   ]
  },
  {
   "cell_type": "code",
   "execution_count": 4,
   "metadata": {},
   "outputs": [],
   "source": [
    "def fact(num):\n",
    "    if num <= 1:\n",
    "        return 1\n",
    "    return num*factorial(num - 1)"
   ]
  },
  {
   "cell_type": "markdown",
   "metadata": {},
   "source": [
    "## 🚀 Analyze complexity --\n",
    "\n",
    "- T(n) = 1 + T(n - 1)\n",
    "- T(1) = 1 + 1 = 2 = O(1)\n",
    "- T(n) = 2 + T(n-2)\n",
    "\n",
    "### replace 2 by k\n",
    "\n",
    "- T(n) = k + T(n-k) ---(1)\n",
    "- n - k = 1, k = n - 1\n",
    "\n",
    "## replace in equation above --- (1)\n",
    "- T(n = (n - 1) + T(1)\n",
    "- T(n) = O(n) + O(1)\n",
    "- T(n) = O(n)"
   ]
  },
  {
   "cell_type": "markdown",
   "metadata": {},
   "source": [
    "***"
   ]
  },
  {
   "cell_type": "markdown",
   "metadata": {},
   "source": [
    "## 🗣 Quick sort\n",
    "\n",
    "- divide and conquer approach\n",
    "- works on concept of pivot element\n",
    "- what's pivot element?\n",
    "    - [70, 50, 30, 10, 20, 40, 60]\n",
    "    - [70, 50, 30, 10] [20, 40, 60]\n",
    "- first element(70)\n",
    "- last element(60) << Choice is your, here we chose last element\n",
    "\n",
    "- [10,80,30,90,40,50,70]\n",
    "- correct index of the pivot element.\n",
    "- everything less than the pivot should go on its right\n",
    "\n",
    "### 4 ways to pick pivot --\n",
    "    1. Always pick first element as pivot.\n",
    "    2. Always pick last element as pivot (implemented below)\n",
    "    3. Pick a random element as pivot.\n",
    "    4. Pick median as pivot."
   ]
  },
  {
   "cell_type": "markdown",
   "metadata": {},
   "source": [
    "code snippet #3"
   ]
  },
  {
   "cell_type": "code",
   "execution_count": null,
   "metadata": {},
   "outputs": [],
   "source": [
    "def partition(arr, low, high):\n",
    "    i = (low - 1)\n",
    "    pivot = arr[high]\n",
    "    for j in range(low , high):\n",
    "        if arr[j] <= pivot:        \n",
    "            i = i + 1 \n",
    "            arr[i], arr[j] = arr[j], arr[i]\n",
    "    arr[i+1], arr[high] = arr[high], arr[i+1]\n",
    "    return (i+1)\n",
    "  \n",
    "# The main function that implements\n",
    "# QuickSort\n",
    "# arr[] --> Array to be sorted,\n",
    "# low  --> Starting index,\n",
    "# high  --> Ending index\n",
    "# Function to do Quick sort\n",
    "def quickSort(arr, low, high):\n",
    "    if low < high:\n",
    "        pi = partition(arr, low, high)\n",
    "        quickSort(arr, low, pi-1)\n",
    "        quickSort(arr, pi+1, high)"
   ]
  },
  {
   "cell_type": "markdown",
   "metadata": {},
   "source": [
    "## 🚀 Time complexity of quick sort -- \n",
    "\n",
    "- (n*(n+1))/2 = O(n^2), worst case\n",
    "- T(n) = T(n/2+a)+T(n/2-a)+O(n) [Best Case]\n",
    "- T(n) = T(n/2+a)+T(n/2-a)+O(n) [Avg Case]"
   ]
  },
  {
   "cell_type": "markdown",
   "metadata": {},
   "source": [
    "***"
   ]
  },
  {
   "cell_type": "markdown",
   "metadata": {},
   "source": [
    "## 👉🏽 summary of all sorting algorithms\n",
    "\n",
    "- [geekforgeeks.org](https://www.geeksforgeeks.org/analysis-of-different-sorting-techniques/)\n",
    "- or refer last slide from today's lecture slides"
   ]
  },
  {
   "cell_type": "markdown",
   "metadata": {},
   "source": [
    "***"
   ]
  }
 ],
 "metadata": {
  "kernelspec": {
   "display_name": "Python 3",
   "language": "python",
   "name": "python3"
  },
  "language_info": {
   "codemirror_mode": {
    "name": "ipython",
    "version": 3
   },
   "file_extension": ".py",
   "mimetype": "text/x-python",
   "name": "python",
   "nbconvert_exporter": "python",
   "pygments_lexer": "ipython3",
   "version": "3.7.3"
  }
 },
 "nbformat": 4,
 "nbformat_minor": 2
}
