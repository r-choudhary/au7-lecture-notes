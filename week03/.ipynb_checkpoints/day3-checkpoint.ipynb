{
 "cells": [
  {
   "cell_type": "markdown",
   "metadata": {},
   "source": [
    "# week3\n",
    "\n",
    "## day3\n",
    "\n",
    "- date -- feb 5, 2020\n",
    "- instructer -- priyesh s.\n",
    "- check cc/assignments/lecture slides on priyesh's git repo [here](https://github.com/never2average/AttainU-CCs)\n",
    "- repl during lecture [here](https://repl.it/repls/ApprehensiveStaidBash)\n",
    "\n",
    "\n",
    "## agenda \n",
    "\n",
    "### review we've done so far\n",
    "\n",
    "- if else\n",
    "- for loop\n",
    "- while loop\n",
    "- functions\n",
    "- strings\n",
    "- counting Sort\n",
    "- lists"
   ]
  },
  {
   "cell_type": "markdown",
   "metadata": {},
   "source": [
    "## 1. if else (conditional statements)"
   ]
  },
  {
   "cell_type": "markdown",
   "metadata": {},
   "source": [
    "### 1.1 if else"
   ]
  },
  {
   "cell_type": "code",
   "execution_count": 14,
   "metadata": {},
   "outputs": [
    {
     "name": "stdout",
     "output_type": "stream",
     "text": [
      "sun\n",
      "don't wake up\n"
     ]
    }
   ],
   "source": [
    "tod = input()\n",
    "if (tod == \"mon\" or tod == \"tue\" or tod == \"wed\" or tod == \"thu\" or tod == \"fri\"):\n",
    "    print (\"wake up at 8am\")\n",
    "else:\n",
    "    print(\"don't wake up\")"
   ]
  },
  {
   "cell_type": "markdown",
   "metadata": {},
   "source": [
    "### 1.2 if-elif-else"
   ]
  },
  {
   "cell_type": "code",
   "execution_count": 15,
   "metadata": {},
   "outputs": [
    {
     "name": "stdout",
     "output_type": "stream",
     "text": [
      "sat\n",
      "wake up to chill\n"
     ]
    }
   ],
   "source": [
    "tod = input()\n",
    "if (tod == \"mon\" or tod == \"tue\" or tod == \"wed\" or tod == \"thu\" or tod == \"fri\"):\n",
    "    print (\"wake up at 8am\")\n",
    "elif (tod == \"sat\"):\n",
    "    print(\"wake up to chill\")\n",
    "else:\n",
    "    print(\"no need, get back to bed\")"
   ]
  },
  {
   "cell_type": "markdown",
   "metadata": {},
   "source": [
    "## 2. loops\n",
    "\n",
    "### 2.1 for loop\n",
    "- if use just use range(num) it will go from 0 to n-1 (last element)\n",
    "- use for regular increments\n",
    "- use when you know how many times to run"
   ]
  },
  {
   "cell_type": "code",
   "execution_count": 18,
   "metadata": {},
   "outputs": [
    {
     "name": "stdout",
     "output_type": "stream",
     "text": [
      "14\n",
      "28\n",
      "42\n",
      "56\n",
      "70\n",
      "84\n",
      "98\n",
      "112\n",
      "126\n",
      "140\n"
     ]
    }
   ],
   "source": [
    "for i in range (1, 11):\n",
    "    print(14*i)"
   ]
  },
  {
   "cell_type": "code",
   "execution_count": 19,
   "metadata": {},
   "outputs": [
    {
     "name": "stdout",
     "output_type": "stream",
     "text": [
      "0\n",
      "14\n",
      "28\n",
      "42\n",
      "56\n",
      "70\n",
      "84\n",
      "98\n",
      "112\n",
      "126\n"
     ]
    }
   ],
   "source": [
    "for i in range (10):\n",
    "    print(14*i)"
   ]
  },
  {
   "cell_type": "code",
   "execution_count": 20,
   "metadata": {},
   "outputs": [
    {
     "name": "stdout",
     "output_type": "stream",
     "text": [
      "11\n",
      "22\n",
      "33\n",
      "44\n",
      "55\n",
      "66\n",
      "77\n",
      "88\n",
      "99\n"
     ]
    }
   ],
   "source": [
    "for i in range(11, 100, 11):\n",
    "    print(i)"
   ]
  },
  {
   "cell_type": "code",
   "execution_count": 26,
   "metadata": {},
   "outputs": [
    {
     "name": "stdout",
     "output_type": "stream",
     "text": [
      "120\n",
      "11\n",
      "14\n"
     ]
    }
   ],
   "source": [
    "m = int(input())\n",
    "n = int(input())\n",
    "\n",
    "# to make sure loop runs everytime, just to swap values, validate loop condition\n",
    "if m >= n:\n",
    "    m, n = n, m\n",
    "\n",
    "for i in range(m, n):\n",
    "    if i%7 == 0:\n",
    "        print(i)\n",
    "        break"
   ]
  },
  {
   "cell_type": "markdown",
   "metadata": {},
   "source": [
    "### 2.2 while loop\n",
    "- when you know only the stop condition (indefinite scenarios)"
   ]
  },
  {
   "cell_type": "code",
   "execution_count": 22,
   "metadata": {},
   "outputs": [
    {
     "name": "stdout",
     "output_type": "stream",
     "text": [
      "0\n",
      "2\n",
      "3\n",
      "5\n",
      "6\n",
      "8\n",
      "9\n",
      "11\n",
      "12\n",
      "14\n",
      "15\n",
      "17\n",
      "18\n"
     ]
    }
   ],
   "source": [
    "loop_var = 0\n",
    "while loop_var < 20:\n",
    "    print(loop_var)\n",
    "    if loop_var%3 == 0:\n",
    "        loop_var+=2\n",
    "    else:\n",
    "        loop_var+=1"
   ]
  },
  {
   "cell_type": "markdown",
   "metadata": {},
   "source": [
    "## 3. strings\n",
    "\n",
    "- sequnce of characters that is enclosed by a \"\" or ''\n",
    "- each character can be accessed using index\n",
    "    - left indexing\n",
    "    - right (or negative) indexing\n",
    "- a group of characters can be accesses using slicing\n",
    "- strings are immutable"
   ]
  },
  {
   "cell_type": "markdown",
   "metadata": {},
   "source": [
    "### 3.1 left and right indexing"
   ]
  },
  {
   "cell_type": "code",
   "execution_count": 39,
   "metadata": {},
   "outputs": [
    {
     "name": "stdout",
     "output_type": "stream",
     "text": [
      "g\n",
      "n\n",
      "t\n",
      "s\n"
     ]
    }
   ],
   "source": [
    "s = \"string\"\n",
    "\n",
    "# right/negative\n",
    "print(s[-1])\n",
    "print(s[-2])\n",
    "\n",
    "# left\n",
    "print(s[1])\n",
    "print(s[0])"
   ]
  },
  {
   "cell_type": "markdown",
   "metadata": {},
   "source": [
    "### 3.2 slicing"
   ]
  },
  {
   "cell_type": "code",
   "execution_count": 28,
   "metadata": {},
   "outputs": [
    {
     "name": "stdout",
     "output_type": "stream",
     "text": [
      "ring\n"
     ]
    }
   ],
   "source": [
    "s = \"string\"\n",
    "print(s[2:6])"
   ]
  },
  {
   "cell_type": "code",
   "execution_count": 37,
   "metadata": {},
   "outputs": [
    {
     "name": "stdout",
     "output_type": "stream",
     "text": [
      "gnirts\n",
      "rahul\n",
      "luhar\n"
     ]
    }
   ],
   "source": [
    "# reverse string\n",
    "s = \"string\"\n",
    "\n",
    "# print(s[start:end:step])\n",
    "print(s[-1:-7:-1])\n",
    "\n",
    "t = input()\n",
    "print(t[::-1])"
   ]
  },
  {
   "cell_type": "markdown",
   "metadata": {},
   "source": [
    "### 3.3 immutablity of a string\n",
    "- changing value is not possible in the same memory location"
   ]
  },
  {
   "cell_type": "code",
   "execution_count": 40,
   "metadata": {},
   "outputs": [
    {
     "ename": "TypeError",
     "evalue": "'str' object does not support item assignment",
     "output_type": "error",
     "traceback": [
      "\u001b[0;31m---------------------------------------------------------------------------\u001b[0m",
      "\u001b[0;31mTypeError\u001b[0m                                 Traceback (most recent call last)",
      "\u001b[0;32m<ipython-input-40-6ee050464f88>\u001b[0m in \u001b[0;36m<module>\u001b[0;34m\u001b[0m\n\u001b[1;32m      1\u001b[0m \u001b[0ms\u001b[0m \u001b[0;34m=\u001b[0m \u001b[0;34m\"string\"\u001b[0m\u001b[0;34m\u001b[0m\u001b[0;34m\u001b[0m\u001b[0m\n\u001b[0;32m----> 2\u001b[0;31m \u001b[0ms\u001b[0m\u001b[0;34m[\u001b[0m\u001b[0;36m0\u001b[0m\u001b[0;34m]\u001b[0m \u001b[0;34m=\u001b[0m \u001b[0;34m\"S\"\u001b[0m\u001b[0;34m\u001b[0m\u001b[0;34m\u001b[0m\u001b[0m\n\u001b[0m",
      "\u001b[0;31mTypeError\u001b[0m: 'str' object does not support item assignment"
     ]
    }
   ],
   "source": [
    "# this won't work\n",
    "s = \"string\"\n",
    "s[0] = \"S\""
   ]
  },
  {
   "cell_type": "code",
   "execution_count": 41,
   "metadata": {},
   "outputs": [
    {
     "name": "stdout",
     "output_type": "stream",
     "text": [
      "String\n"
     ]
    }
   ],
   "source": [
    "# this work\n",
    "s = \"string\"\n",
    "s = \"String\"\n",
    "print(s)"
   ]
  },
  {
   "cell_type": "markdown",
   "metadata": {},
   "source": [
    "### cc question \n",
    "- password strength check"
   ]
  },
  {
   "cell_type": "code",
   "execution_count": 1,
   "metadata": {},
   "outputs": [
    {
     "name": "stdout",
     "output_type": "stream",
     "text": [
      "strong password\n"
     ]
    }
   ],
   "source": [
    "# take input password\n",
    "\n",
    "# check if length is valid, ie, length is less than 6\n",
    "def password(pwd):\n",
    "    if len(pwd)<6:\n",
    "        print(\"invalid length\")\n",
    "    else:\n",
    "        numbers = \"0123456789\"\n",
    "        lower_case = \"abcdefghijklmnopqrstuvwxyz\"\n",
    "        upper_case = \"ABCDEFGHIJKLMNOPQRSTUVWXYZ\"\n",
    "        special_characters = \"!@#$%^&*()-+\"\n",
    "        num_num = 0\n",
    "        num_lcase = 0\n",
    "        num_ucase = 0\n",
    "        num_special_char = 0\n",
    "\n",
    "        for i in pwd:\n",
    "            if i in numbers:\n",
    "                num_num += 1\n",
    "            elif i in lower_case:\n",
    "                num_lcase += 1\n",
    "            elif i in upper_case:\n",
    "                num_ucase += 1\n",
    "            elif i in special_characters:\n",
    "                num_special_char += 1\n",
    "        if (num_num >= 1) and (num_lcase >= 1) and (num_ucase >=1) and (num_special_char >= 1):\n",
    "            print(\"strong password\")\n",
    "        else:\n",
    "            print(\"weak passowrd\")\n",
    "\n",
    "password(\"Abc#123\")"
   ]
  },
  {
   "cell_type": "markdown",
   "metadata": {},
   "source": [
    "### full password problem from hackerrank\n",
    "https://www.hackerrank.com/challenges/strong-password/problem"
   ]
  },
  {
   "cell_type": "code",
   "execution_count": 6,
   "metadata": {},
   "outputs": [
    {
     "name": "stdout",
     "output_type": "stream",
     "text": [
      "Rahul#123\n"
     ]
    }
   ],
   "source": [
    "password = input()\n",
    "\n",
    "numbers = \"0123456789\"\n",
    "lower_case = \"abcdefghijklmnopqrstuvwxyz\"\n",
    "upper_case = \"ABCDEFGHIJKLMNOPQRSTUVWXYZ\"\n",
    "special_characters = \"!@#$%^&*()-+\"\n",
    "\n",
    "num_nos_password = 0\n",
    "num_small_password = 0\n",
    "num_capital_password = 0\n",
    "num_special_password = 0\n",
    "\n",
    "num_chars_to_add = 0\n",
    "\n",
    "for i in password:\n",
    "  if i in numbers:\n",
    "    num_nos_password+=1\n",
    "  elif i in lower_case:\n",
    "    num_small_password+=1\n",
    "  elif i in upper_case:\n",
    "    num_capital_password+=1\n",
    "  elif i in special_characters:\n",
    "    num_special_password+=1\n",
    "\n",
    "if num_nos_password < 1:\n",
    "  num_chars_to_add += 1\n",
    "if num_small_password < 1:\n",
    "  num_chars_to_add += 1\n",
    "if num_capital_password < 1:\n",
    "  num_chars_to_add += 1\n",
    "if num_special_password < 1:\n",
    "  num_chars_to_add += 1\n",
    "\n",
    "if len(password)+num_chars_to_add < 6:\n",
    "  num_chars_to_add = num_chars_to_add + (6 - (len(password)+num_chars_to_add))\n",
    "  print(num_chars_to_add)"
   ]
  },
  {
   "cell_type": "code",
   "execution_count": null,
   "metadata": {},
   "outputs": [],
   "source": []
  }
 ],
 "metadata": {
  "kernelspec": {
   "display_name": "Python 3",
   "language": "python",
   "name": "python3"
  },
  "language_info": {
   "codemirror_mode": {
    "name": "ipython",
    "version": 3
   },
   "file_extension": ".py",
   "mimetype": "text/x-python",
   "name": "python",
   "nbconvert_exporter": "python",
   "pygments_lexer": "ipython3",
   "version": "3.7.3"
  }
 },
 "nbformat": 4,
 "nbformat_minor": 2
}
