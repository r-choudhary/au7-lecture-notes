{
 "cells": [
  {
   "cell_type": "markdown",
   "metadata": {},
   "source": [
    "# week03\n",
    "\n",
    "## day3\n",
    "\n",
    "- date -- feb 5, 2020\n",
    "- instructer -- priyesh s.\n",
    "- check cc/assignments/lecture slides on priyesh's git repo [here](https://github.com/never2average/AttainU-CCs)\n",
    "- lecture slide -- [here](https://docs.google.com/presentation/d/1I9ujxBgZ6Z0JERxxrq7VsPq9eVUDJjUEH7A9-qSHBUs/edit#slide=id.g7d65cf9c44_0_70)\n",
    "\n",
    "\n",
    "## today \n",
    "\n",
    "- dictionary\n",
    "- time complexity\n",
    "- searching\n",
    "- binary search\n",
    "- counting sort"
   ]
  },
  {
   "cell_type": "markdown",
   "metadata": {},
   "source": [
    "## dictionary\n",
    "- unordered mutable set of key value pair enclosed by {}\n",
    "- key value pair, keys are unique\n",
    "- it is mutable/changable\n",
    "- unordered"
   ]
  },
  {
   "cell_type": "code",
   "execution_count": null,
   "metadata": {},
   "outputs": [],
   "source": [
    "# declaration\n",
    "# d[key] = value"
   ]
  },
  {
   "cell_type": "code",
   "execution_count": 1,
   "metadata": {},
   "outputs": [
    {
     "name": "stdout",
     "output_type": "stream",
     "text": [
      "{'rahul': 12}\n"
     ]
    }
   ],
   "source": [
    "# mutable nature\n",
    "di_1 = {}\n",
    "di_1[\"rahul\"] = 12\n",
    "print(di_1)"
   ]
  },
  {
   "cell_type": "code",
   "execution_count": 3,
   "metadata": {},
   "outputs": [
    {
     "name": "stdout",
     "output_type": "stream",
     "text": [
      "True\n"
     ]
    }
   ],
   "source": [
    "# unordered\n",
    "print({\"A\": 12, \"B\":7} == {\"B\":7, \"A\": 12})"
   ]
  },
  {
   "cell_type": "code",
   "execution_count": 6,
   "metadata": {},
   "outputs": [
    {
     "name": "stdout",
     "output_type": "stream",
     "text": [
      "key1\n",
      "value1\n",
      "{'key1': 'value1'}\n"
     ]
    }
   ],
   "source": [
    "# adding single value at runtime\n",
    "d = {}\n",
    "key = input()\n",
    "value = input()\n",
    "d[key] = value\n",
    "print(d)"
   ]
  },
  {
   "cell_type": "code",
   "execution_count": 7,
   "metadata": {},
   "outputs": [
    {
     "name": "stdout",
     "output_type": "stream",
     "text": [
      "{'a': 12, 'b': 5, 'c': 4, 'd': 9}\n"
     ]
    }
   ],
   "source": [
    "# update method \n",
    "d1 = {\"a\":12, \"b\":5}\n",
    "d2 = {\"c\":4, \"d\":9}\n",
    "d1.update(d2)\n",
    "print(d1)"
   ]
  },
  {
   "cell_type": "code",
   "execution_count": 11,
   "metadata": {},
   "outputs": [
    {
     "name": "stdout",
     "output_type": "stream",
     "text": [
      "remove a {'b': 5, 'c': 4, 'd': 9}\n",
      "pop b {'c': 4, 'd': 9}\n",
      "all clear {}\n"
     ]
    }
   ],
   "source": [
    "# remove element from dictionary\n",
    "d = {\"a\": 12, \"b\": 5, \"c\": 4, \"d\": 9}\n",
    "del d[\"a\"]\n",
    "print(\"remove a\", d)\n",
    "\n",
    "# using pop\n",
    "d.pop(\"b\")\n",
    "print(\"pop b\", d)\n",
    "\n",
    "# using clear()\n",
    "d.clear()\n",
    "print(\"all clear\", d)"
   ]
  },
  {
   "cell_type": "code",
   "execution_count": 15,
   "metadata": {},
   "outputs": [
    {
     "data": {
      "text/plain": [
       "12"
      ]
     },
     "execution_count": 15,
     "metadata": {},
     "output_type": "execute_result"
    }
   ],
   "source": [
    "# get element of d\n",
    "d = {\"a\": 12, \"b\": 5, \"c\": 4, \"d\": 9}\n",
    "d.get(\"a\")"
   ]
  },
  {
   "cell_type": "code",
   "execution_count": 14,
   "metadata": {},
   "outputs": [
    {
     "data": {
      "text/plain": [
       "'invalid key'"
      ]
     },
     "execution_count": 14,
     "metadata": {},
     "output_type": "execute_result"
    }
   ],
   "source": [
    "# return message when key now found\n",
    "d.get(\"e\", \"invalid key\")"
   ]
  },
  {
   "cell_type": "code",
   "execution_count": 19,
   "metadata": {},
   "outputs": [
    {
     "data": {
      "text/plain": [
       "dict_values([12, 5, 4, 9])"
      ]
     },
     "execution_count": 19,
     "metadata": {},
     "output_type": "execute_result"
    }
   ],
   "source": [
    "# print values\n",
    "d1 = {\"a\": 12, \"b\": 5, \"c\": 4, \"d\": 9}\n",
    "d.values()"
   ]
  },
  {
   "cell_type": "code",
   "execution_count": 20,
   "metadata": {},
   "outputs": [
    {
     "data": {
      "text/plain": [
       "dict_keys(['a', 'b', 'c', 'd'])"
      ]
     },
     "execution_count": 20,
     "metadata": {},
     "output_type": "execute_result"
    }
   ],
   "source": [
    "# print key values\n",
    "d1 = {\"a\": 12, \"b\": 5, \"c\": 4, \"d\": 9}\n",
    "d1.keys()"
   ]
  },
  {
   "cell_type": "code",
   "execution_count": 29,
   "metadata": {},
   "outputs": [
    {
     "name": "stdout",
     "output_type": "stream",
     "text": [
      "0 2 4 6 8 10 \n",
      "[0, 2, 4, 6, 8, 10]\n"
     ]
    }
   ],
   "source": [
    "# list comprehension\n",
    "for i in range(0, 11, 2):\n",
    "    print(i, end=\" \")\n",
    "\n",
    "# syntactic sugar\n",
    "print() # add a line\n",
    "print ([i for i in range(0, 11, 2)])"
   ]
  },
  {
   "cell_type": "markdown",
   "metadata": {},
   "source": [
    "## time complexity\n",
    "- hardware varies a lot\n",
    "- to measure performance of algorithm, you need something constant\n",
    "- so we measure all our measurements in terms of input/output\n",
    "\n",
    "### big O notation\n",
    "- terms is in input size n\n",
    "- refers to highest exponent in polynomial without coefficient\n",
    "- eg: 3n^2 + 6n + 2, O(n)\n",
    "\n",
    "\n",
    "## searching\n",
    "\n",
    "### linear search\n",
    "- time taken\n",
    "    - best case - O(1), found at one attempt\n",
    "    - wort case - O(n), found at last attempt\n",
    "    - average case - O((n+1)/2), best case + worst case / 2\n",
    "- space taken (always same in linear search) -- variables you create for calculation, not taken input from user\n",
    "    - best case var created 2\n",
    "    - worst case var created 2\n",
    "    - input 10^6 2\n",
    "    - input 10^9 2\n",
    "    - 2* (n^0) \n",
    "    - O(1)\n",
    "\n",
    "### binary search\n",
    "- works only in sorted arrays\n",
    "- worst case log(n), remember log is opposite of exponent\n",
    "- comparision are indeed increasing with input -- yes, but its not directly proportional to n\n",
    "- num of comparisions -- \n",
    "    - 8list size divisions 3 times so 2^3\n",
    "    - 32list size divisions 5 times so 2^5\n",
    "    - 180list size divisions 8 times so 2^8\n",
    "- we can say num of comparisions are increasing at a logarithmic rate\n",
    "    - loga(c) = b => a^b = c\n",
    "    - hence log(n) is the worst case \n",
    "    - and O(n) in the best case\n",
    "    - average case is O(log(n))\n",
    "- space complexity is O(1) since we are not creating any new variables during searching process\n",
    "- best algorithm for sorted arrays"
   ]
  },
  {
   "cell_type": "code",
   "execution_count": 38,
   "metadata": {},
   "outputs": [
    {
     "name": "stdout",
     "output_type": "stream",
     "text": [
      "('item found at index ', 0)\n"
     ]
    }
   ],
   "source": [
    "# linear search\n",
    "def linear_search(list, item):\n",
    "    n = len(list)\n",
    "    for i in range(n):\n",
    "        if list[i] == item:\n",
    "            return \"item found at index \", i\n",
    "        return \"item not found \", -1\n",
    "print(linear_search([\"1\", \"2\", \"3\", \"5\", \"7\"], \"1\"))"
   ]
  },
  {
   "cell_type": "code",
   "execution_count": 39,
   "metadata": {},
   "outputs": [
    {
     "name": "stdout",
     "output_type": "stream",
     "text": [
      "[1, 1, 2, 3, 5, 8, 13, 21, 34, 55, 89, 144]\n"
     ]
    }
   ],
   "source": [
    "# first n fibonacci\n",
    "L = [1,1]\n",
    "n = 10\n",
    "for i in range(n):\n",
    "    L.append(L[-1]+L[-2])\n",
    "print(L)\n",
    "\n",
    "# space complexity -- we consume memory that is size of list L"
   ]
  },
  {
   "cell_type": "code",
   "execution_count": 40,
   "metadata": {},
   "outputs": [
    {
     "name": "stdout",
     "output_type": "stream",
     "text": [
      "1 1 2 3 5 8 13 21 34 55 89 144 "
     ]
    }
   ],
   "source": [
    "# first n fibonacci example 2\n",
    "a,b = 1,1\n",
    "print(\"1 1\", end=\" \")\n",
    "for i in range(n):\n",
    "    print(a+b, end=\" \")\n",
    "    a,b = b,a+b"
   ]
  },
  {
   "cell_type": "code",
   "execution_count": 43,
   "metadata": {
    "scrolled": true
   },
   "outputs": [
    {
     "name": "stdout",
     "output_type": "stream",
     "text": [
      "[[0, 0, 0], [0, 0, 0], [0, 0, 0]]\n"
     ]
    }
   ],
   "source": [
    "# create a SQUARE matrix = O(n^2)\n",
    "# for a RECTANGLE matrix = O(m*n)\n",
    "\n",
    "m = 3\n",
    "n = 3\n",
    "L = [[0 for i in range(n)]for j in range(m)]\n",
    "print(L)"
   ]
  },
  {
   "cell_type": "markdown",
   "metadata": {},
   "source": [
    "***"
   ]
  }
 ],
 "metadata": {
  "kernelspec": {
   "display_name": "Python 3",
   "language": "python",
   "name": "python3"
  },
  "language_info": {
   "codemirror_mode": {
    "name": "ipython",
    "version": 3
   },
   "file_extension": ".py",
   "mimetype": "text/x-python",
   "name": "python",
   "nbconvert_exporter": "python",
   "pygments_lexer": "ipython3",
   "version": "3.7.3"
  }
 },
 "nbformat": 4,
 "nbformat_minor": 2
}
