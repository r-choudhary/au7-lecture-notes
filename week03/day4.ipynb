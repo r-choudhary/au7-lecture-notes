{
 "cells": [
  {
   "cell_type": "markdown",
   "metadata": {},
   "source": [
    "# week 03\n",
    "## day4\n",
    "- date -- feb 6, 2020\n",
    "- instructer -- priesh s.\n",
    "- check cc/assignments/lecture slides on priyesh's git repo [here](https://github.com/never2average/AttainU-CCs)\n",
    "\n",
    "## outline\n",
    "- functions\n",
    "    - properties\n",
    "    - keywords\n",
    "    - arguments / parameters\n",
    "- lists\n",
    "    - define\n",
    "    - properties\n",
    "    - methods\n",
    "- pangram question"
   ]
  },
  {
   "cell_type": "markdown",
   "metadata": {},
   "source": [
    "## functions\n",
    "- code block which that can run whenever it is called\n",
    "\n",
    "### properties:\n",
    "- reusability of code, a function can be called as many times as needed\n",
    "- code modularity -- functions are independent, they take value and return stuff to even other functions\n",
    "- customizability -- print/return different values based on input passed to function\n",
    "\n",
    "### keywords:\n",
    "- def\n",
    "- name of function\n",
    "- parameter\n",
    "- return statement\n",
    "- return value\n",
    "\n",
    "### argument/parameter:\n",
    "- arguments are values which we pass\n",
    "- parameters are variables, placeholders for arguments in function def\n",
    "- default argument parameters\n",
    "- parenthesis is (), bracket [], curly brackets {}"
   ]
  },
  {
   "cell_type": "code",
   "execution_count": 7,
   "metadata": {},
   "outputs": [
    {
     "name": "stdout",
     "output_type": "stream",
     "text": [
      "373.15\n",
      "-52.46999999999996\n"
     ]
    }
   ],
   "source": [
    "# passing return value from one function to another\n",
    "\n",
    "def cel_to_fahr(temp):\n",
    "    return((9/5)*(temp+32))\n",
    "\n",
    "def cel_to_kelvin(temp):\n",
    "    return temp+273.15\n",
    "\n",
    "def kelvin_to_cel(temp):\n",
    "    return temp-273.15\n",
    "\n",
    "# convert fahr to kelvin\n",
    "print(cel_to_kelvin(fahr_to_cel(212)))\n",
    "\n",
    "# convert kel to fahr\n",
    "print(cel_to_fahr(kelvin_to_cel(212)))"
   ]
  },
  {
   "cell_type": "code",
   "execution_count": 15,
   "metadata": {},
   "outputs": [
    {
     "name": "stdout",
     "output_type": "stream",
     "text": [
      "table  5\n",
      "table  10\n",
      "table  15\n",
      "table  20\n",
      "table  25\n",
      "table  30\n",
      "table  35\n",
      "table  40\n",
      "table  45\n",
      "table  50\n",
      "table  2\n",
      "table  4\n",
      "table  6\n",
      "table  8\n",
      "table  10\n",
      "table  12\n",
      "table  14\n",
      "table  16\n",
      "table  18\n",
      "table  20\n",
      "default argu table  10\n",
      "default argu table  20\n",
      "default argu table  30\n",
      "default argu table  40\n",
      "default argu table  50\n",
      "default argu table  60\n",
      "default argu table  70\n",
      "default argu table  80\n",
      "default argu table  90\n",
      "default argu table  100\n"
     ]
    }
   ],
   "source": [
    "# code customization using functions\n",
    "\n",
    "def print_table(n):\n",
    "    for i in range(1, 11):\n",
    "        print(\"table \", n*i)\n",
    "print_table(5)\n",
    "print_table(2)\n",
    "\n",
    "# with default argument\n",
    "\n",
    "def print_table_def_argu(no, start=1, end=10):\n",
    "    for i in range(start, end+1):\n",
    "        print(\"default argu table \", no*i)\n",
    "print_table_def_argu(10)"
   ]
  },
  {
   "cell_type": "code",
   "execution_count": 16,
   "metadata": {},
   "outputs": [
    {
     "name": "stdout",
     "output_type": "stream",
     "text": [
      "7\n"
     ]
    }
   ],
   "source": [
    "def add(a, b):\n",
    "    return a + b\n",
    "a = 3\n",
    "b = 4\n",
    "print(add(3, 4))"
   ]
  },
  {
   "cell_type": "code",
   "execution_count": 24,
   "metadata": {},
   "outputs": [
    {
     "name": "stdout",
     "output_type": "stream",
     "text": [
      "a\n"
     ]
    }
   ],
   "source": [
    "# convert a char to lower case\n",
    "def l_case(inp):\n",
    "    if ord(inp) >= ord(\"A\") and ord(inp) <= ord(\"Z\"):\n",
    "        return chr(ord(inp) + 32)\n",
    "    return inp\n",
    "print(l_case(\"A\"))"
   ]
  },
  {
   "cell_type": "markdown",
   "metadata": {},
   "source": [
    "## lists\n",
    "\n",
    "- ordered sequence of elements, that are enclosed in square brackets\n",
    "- properties:\n",
    "    - indexed in nature\n",
    "        - -1 to -n -- negative index\n",
    "        - 0 to n-1 -- left index\n",
    "    - mutability \n",
    "- methods on list\n",
    "    - len() -- prints the number of elements in a list\n",
    "    - append() -- adds single element\n",
    "    - extend()\n",
    "    - insert()\n",
    "    - pop() -- removes element from list, at specific location\n",
    "    - del -- deletes range/one index in the list\n",
    "    - remove() -- removes first occurence of element in list\n",
    "    - reverse() -- reverses the list order\n",
    "    - sort() -- sort element in increasing order\n",
    "    "
   ]
  },
  {
   "cell_type": "code",
   "execution_count": 25,
   "metadata": {},
   "outputs": [
    {
     "name": "stdout",
     "output_type": "stream",
     "text": [
      "False\n"
     ]
    }
   ],
   "source": [
    "# ordered nature of lists\n",
    "\n",
    "l = [1, 2, 3, 4]\n",
    "print([1, 2, 3, 4] == [2, 1, 4, 3])"
   ]
  },
  {
   "cell_type": "code",
   "execution_count": 48,
   "metadata": {},
   "outputs": [
    {
     "name": "stdout",
     "output_type": "stream",
     "text": [
      "length  4\n",
      "new el  ['Rahul', 2, 3, 4]\n",
      "append  ['Rahul', 2, 3, 4, 99]\n",
      "extend  ['Rahul', 2, 3, 4, 99, 1, 2, 3]\n",
      "pop element  Rahul\n",
      "after pop  [2, 3, 4, 99, 1, 2, 3]\n",
      "delete [4, 99, 1, 2, 3]\n",
      "remove [99, 1, 2, 3]\n",
      "reverse [3, 2, 1, 99]\n",
      "sort  [0, 1, 2, 2, 5, 5, 6, 7]\n"
     ]
    }
   ],
   "source": [
    "l = [1,2,3,4]\n",
    "\n",
    "\n",
    "l[0] = \"Rahul\"\n",
    "\n",
    "print(\"length \", len(l))\n",
    "print(\"new el \", l)\n",
    "\n",
    "# append\n",
    "l.append(99)\n",
    "print(\"append \", l)\n",
    "\n",
    "# extend\n",
    "l.extend([1,2,3])\n",
    "print(\"extend \", l)\n",
    "\n",
    "# pop(index)\n",
    "del_el = l.pop(0)\n",
    "print(\"pop element \", del_el)\n",
    "print(\"after pop \", l)\n",
    "\n",
    "# del \n",
    "del l[0:2]\n",
    "print (\"delete\", l)\n",
    "\n",
    "# remove(value)\n",
    "l.remove(4)\n",
    "print (\"remove\", l)\n",
    "\n",
    "# reverse\n",
    "l.reverse()\n",
    "print(\"reverse\", l)\n",
    "\n",
    "# sort\n",
    "l_new = [5,2,7,2,5,6,0,1]\n",
    "l_new.sort()\n",
    "print(\"sort \", l_new)"
   ]
  },
  {
   "cell_type": "markdown",
   "metadata": {},
   "source": [
    "## pangram question from question\n",
    "https://www.hackerrank.com/challenges/pangrams/problem"
   ]
  },
  {
   "cell_type": "code",
   "execution_count": 55,
   "metadata": {},
   "outputs": [
    {
     "name": "stdout",
     "output_type": "stream",
     "text": [
      "not pangram\n"
     ]
    }
   ],
   "source": [
    "def pangram(string):\n",
    "  # keeps a count of show many times each alphabet has occured\n",
    "  alphabetCount = [0]*26 # a list of size 26 containing only 0s\n",
    "  # string to lowercase to avoid nonsense\n",
    "  s = string.lower()\n",
    "\n",
    "  for i in string:\n",
    "    if i.isalpha():\n",
    "      alphabetCount[ord(i)-97] += 1\n",
    "\n",
    "  for i in alphabetCount:\n",
    "    if i<1:\n",
    "      return \"not pangram\"\n",
    "  return \"pangram\"\n",
    "\n",
    "print(pangram(\"We promptly judged antique ivory buckles for the next prize\"))"
   ]
  },
  {
   "cell_type": "markdown",
   "metadata": {},
   "source": [
    "***"
   ]
  }
 ],
 "metadata": {
  "kernelspec": {
   "display_name": "Python 3",
   "language": "python",
   "name": "python3"
  },
  "language_info": {
   "codemirror_mode": {
    "name": "ipython",
    "version": 3
   },
   "file_extension": ".py",
   "mimetype": "text/x-python",
   "name": "python",
   "nbconvert_exporter": "python",
   "pygments_lexer": "ipython3",
   "version": "3.7.3"
  }
 },
 "nbformat": 4,
 "nbformat_minor": 2
}
